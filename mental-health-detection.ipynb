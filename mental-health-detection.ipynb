{
 "cells": [
  {
   "cell_type": "code",
   "execution_count": 1,
   "id": "5ed0da0e",
   "metadata": {},
   "outputs": [
    {
     "name": "stderr",
     "output_type": "stream",
     "text": [
      "[nltk_data] Downloading package stopwords to\n",
      "[nltk_data]     C:\\Users\\lucky\\AppData\\Roaming\\nltk_data...\n",
      "[nltk_data]   Unzipping corpora\\stopwords.zip.\n"
     ]
    },
    {
     "name": "stdout",
     "output_type": "stream",
     "text": [
      "Index(['Text', 'Emotion'], dtype='object')\n",
      "✅ Accuracy: 74.67 %\n",
      "              precision    recall  f1-score   support\n",
      "\n",
      "       anger       0.90      0.57      0.70       599\n",
      "        fear       0.86      0.48      0.62       530\n",
      "       happy       0.70      0.97      0.81      1406\n",
      "        love       0.96      0.20      0.33       328\n",
      "     sadness       0.73      0.93      0.82      1253\n",
      "    surprise       1.00      0.07      0.14       176\n",
      "\n",
      "    accuracy                           0.75      4292\n",
      "   macro avg       0.86      0.54      0.57      4292\n",
      "weighted avg       0.79      0.75      0.71      4292\n",
      "\n",
      "🎉 Model and vectorizer saved in /model folder!\n"
     ]
    }
   ],
   "source": [
    "# ===============================\n",
    "# 🧠 Mental Health Detection - Emotion Classification\n",
    "# ===============================\n",
    "\n",
    "# 1️⃣ Import libraries\n",
    "import pandas as pd\n",
    "import numpy as np\n",
    "import re\n",
    "import nltk\n",
    "from nltk.corpus import stopwords\n",
    "from sklearn.model_selection import train_test_split\n",
    "from sklearn.feature_extraction.text import TfidfVectorizer\n",
    "from sklearn.naive_bayes import MultinomialNB\n",
    "from sklearn.metrics import accuracy_score, classification_report, confusion_matrix\n",
    "import joblib\n",
    "import os\n",
    "\n",
    "nltk.download('stopwords')\n",
    "\n",
    "# 2️⃣ Load dataset\n",
    "df = pd.read_csv(r\"D:\\mental-health-ai\\data\\Emotion_final.csv\")   # rename if needed\n",
    "df.head()\n",
    "\n",
    "# 3️⃣ Check columns\n",
    "print(df.columns)\n",
    "# Usually columns: ['text', 'emotion']\n",
    "df = df.rename(columns={'Text':'text', 'Emotion':'emotion'})\n",
    "\n",
    "# 4️⃣ Clean text\n",
    "def clean_text(text):\n",
    "    text = str(text).lower()\n",
    "    text = re.sub(r'http\\S+', '', text)\n",
    "    text = re.sub(r'[^a-zA-Z\\s]', '', text)\n",
    "    text = ' '.join([w for w in text.split() if w not in stopwords.words('english')])\n",
    "    return text\n",
    "\n",
    "df['clean_text'] = df['text'].apply(clean_text)\n",
    "\n",
    "# 5️⃣ Split data\n",
    "X = df['clean_text']\n",
    "y = df['emotion']\n",
    "\n",
    "X_train, X_test, y_train, y_test = train_test_split(X, y, test_size=0.2, random_state=42, stratify=y)\n",
    "\n",
    "# 6️⃣ TF-IDF Vectorizer\n",
    "tfidf = TfidfVectorizer(max_features=5000)\n",
    "X_train_tfidf = tfidf.fit_transform(X_train)\n",
    "X_test_tfidf = tfidf.transform(X_test)\n",
    "\n",
    "# 7️⃣ Train model\n",
    "model = MultinomialNB()\n",
    "model.fit(X_train_tfidf, y_train)\n",
    "\n",
    "# 8️⃣ Evaluate\n",
    "y_pred = model.predict(X_test_tfidf)\n",
    "print(\"✅ Accuracy:\", round(accuracy_score(y_test, y_pred)*100, 2), \"%\")\n",
    "print(classification_report(y_test, y_pred))\n",
    "\n",
    "# 9️⃣ Save model and vectorizer\n",
    "os.makedirs(\"model\", exist_ok=True)\n",
    "joblib.dump(model, \"model/emotion_model.pkl\")\n",
    "joblib.dump(tfidf, \"model/tfidf_vectorizer.pkl\")\n",
    "print(\"🎉 Model and vectorizer saved in /model folder!\")\n"
   ]
  },
  {
   "cell_type": "code",
   "execution_count": null,
   "id": "18b61c94",
   "metadata": {},
   "outputs": [],
   "source": []
  }
 ],
 "metadata": {
  "kernelspec": {
   "display_name": "Python 3",
   "language": "python",
   "name": "python3"
  },
  "language_info": {
   "codemirror_mode": {
    "name": "ipython",
    "version": 3
   },
   "file_extension": ".py",
   "mimetype": "text/x-python",
   "name": "python",
   "nbconvert_exporter": "python",
   "pygments_lexer": "ipython3",
   "version": "3.13.2"
  }
 },
 "nbformat": 4,
 "nbformat_minor": 5
}
